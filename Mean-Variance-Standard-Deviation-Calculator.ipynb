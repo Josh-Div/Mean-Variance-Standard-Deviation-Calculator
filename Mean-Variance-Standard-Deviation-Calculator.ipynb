{
 "cells": [
  {
   "cell_type": "code",
   "execution_count": 14,
   "id": "2e2e1f4f-55b3-4741-8a47-47057dc0304f",
   "metadata": {},
   "outputs": [],
   "source": [
    "import numpy as np\n",
    "\n",
    "def calculate(input_list):\n",
    "    if len(input_list) != 9:\n",
    "        raise ValueError(\"List must contain nine numbers.\")\n",
    "\n",
    "    matrix = np.array(input_list).reshape(3, 3)\n",
    "\n",
    "    def stat(func):\n",
    "        return [\n",
    "            func(matrix, axis=0).tolist(),\n",
    "            func(matrix, axis=1).tolist(),\n",
    "            func(matrix).item() if np.isscalar(func(matrix)) else func(matrix).tolist()\n",
    "        ]\n",
    "\n",
    "    calculations = {\n",
    "        'mean': stat(np.mean),\n",
    "        'variance': stat(np.var),\n",
    "        'standard deviation': stat(np.std),\n",
    "        'max': stat(np.max),\n",
    "        'min': stat(np.min),\n",
    "        'sum': stat(np.sum)\n",
    "    }\n",
    "\n",
    "    return calculations\n"
   ]
  },
  {
   "cell_type": "code",
   "execution_count": null,
   "id": "a400a98f-97d6-432f-9fa6-989c775ffc32",
   "metadata": {},
   "outputs": [],
   "source": [
    "from mean_var_std import calculate\n",
    "\n",
    "# Example manual test\n",
    "print(calculate([0, 1, 2, 3, 4, 5, 6, 7, 8]))\n",
    "\n",
    "# Run tests if desired\n",
    "import unittest\n",
    "from test_module import UnitTests\n",
    "\n",
    "unittest.main()\n"
   ]
  },
  {
   "cell_type": "code",
   "execution_count": null,
   "id": "cd9f0604-120c-42f5-a1d6-bcfba6ab7f7b",
   "metadata": {},
   "outputs": [],
   "source": [
    "import unittest\n",
    "from mean_var_std import calculate\n",
    "\n",
    "class UnitTests(unittest.TestCase):\n",
    "    def test_valid_input(self):\n",
    "        self.assertEqual(calculate([0,1,2,3,4,5,6,7,8]), {\n",
    "            'mean': [[3.0, 4.0, 5.0], [1.0, 4.0, 7.0], 4.0],\n",
    "            'variance': [[6.0, 6.0, 6.0], [0.6666666666666666]*3, 6.666666666666667],\n",
    "            'standard deviation': [[2.449489742783178]*3, [0.816496580927726]*3, 2.581988897471611],\n",
    "            'max': [[6, 7, 8], [2, 5, 8], 8],\n",
    "            'min': [[0, 1, 2], [0, 3, 6], 0],\n",
    "            'sum': [[9, 12, 15], [3, 12, 21], 36]\n",
    "        })\n",
    "\n",
    "    def test_invalid_input(self):\n",
    "        with self.assertRaises(ValueError) as context:\n",
    "            calculate([1, 2, 3])\n",
    "        self.assertEqual(str(context.exception), \"List must contain nine numbers.\")\n"
   ]
  }
 ],
 "metadata": {
  "kernelspec": {
   "display_name": "Python [conda env:base] *",
   "language": "python",
   "name": "conda-base-py"
  },
  "language_info": {
   "codemirror_mode": {
    "name": "ipython",
    "version": 3
   },
   "file_extension": ".py",
   "mimetype": "text/x-python",
   "name": "python",
   "nbconvert_exporter": "python",
   "pygments_lexer": "ipython3",
   "version": "3.12.7"
  }
 },
 "nbformat": 4,
 "nbformat_minor": 5
}
